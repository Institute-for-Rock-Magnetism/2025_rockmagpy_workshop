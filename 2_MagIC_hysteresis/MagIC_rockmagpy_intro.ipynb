{
 "cells": [
  {
   "cell_type": "markdown",
   "metadata": {},
   "source": [
    "# Getting going with MagIC and rockmagpy\n",
    "\n",
    "## Background on MagIC\n",
    "\n",
    "The Magnetics Information Consortium (MagIC), hosted at http://earthref.org/MagIC is a database that serves as a Findable, Accessible, Interoperable, Reusable (FAIR) archive for paleomagnetic and rock magnetic data. Its data model is fully described here: [https://www2.earthref.org/MagIC/data-models/3.0](https://www2.earthref.org/MagIC/data-models/3.0). Each contribution is associated with a publication via the DOI.  \n",
    "\n",
    "There are nine data tables. The fields associated with these tables are detailed here: https://www2.earthref.org/MagIC/data-models/3.0\n",
    "\n",
    "- contribution: metadata of the associated publication.\n",
    "- locations: metadata for locations, which are groups of sites (e.g., stratigraphic section, region, etc.)\n",
    "- sites: metadata and derived data at the site level (units with a common expectation)\n",
    "- samples: metadata and derived data at the sample level.\n",
    "- specimens: metadata and derived data at the specimen level.\n",
    "- measurements: metadata and measurements at the specimen level.\n",
    "- criteria: criteria by which data are deemed acceptable\n",
    "- ages: ages and metadata for sites/samples/specimens\n",
    "- images: associated images and plots.\n",
    "\n",
    "## Importing data from MagIC\n",
    "\n",
    "This notebook illustrates the two approaches that can be taken to import data from MagIC into a Jupyter notebook:\n",
    "- **From a locally hosted (i.e. downloaded) MagIC contribution**\n",
    "- **Directly from the MagIC database (using the API)**\n",
    "  - either from a public contribution or\n",
    "  - from a private contribution\n",
    "\n",
    "The MagIC file is then unpacked into its constituent files and loaded as a contribution object. The notebook then summarizes the specimens and the experiments that have been run on them within the data. Finally, it is illustrated how data from a single specimen and single experiment on that specimen can be isolated.\n",
    "\n",
    "In the other rockmagpy notebooks, these import methods are used to bring in contribution data. The filtering methods to access data from specific specimens and experiments are used either in the notebooks or within the `rockmag.py` functions."
   ]
  },
  {
   "cell_type": "markdown",
   "metadata": {},
   "source": [
    "## Import scientific python libraries"
   ]
  },
  {
   "cell_type": "markdown",
   "metadata": {},
   "source": [
    "Run the cell below to import the functions needed for the notebook including `rockmagpy` which is imported as `import pmagpy.rockmag as rmag`."
   ]
  },
  {
   "cell_type": "code",
   "execution_count": null,
   "metadata": {},
   "outputs": [],
   "source": [
    "import pmagpy.ipmag as ipmag\n",
    "import pmagpy.rockmag as rmag\n",
    "import pmagpy.contribution_builder as cb\n",
    "import pandas as pd\n",
    "pd.set_option('display.max_columns', 100)\n",
    "from bokeh.io import output_notebook\n",
    "output_notebook(hide_banner=True)"
   ]
  },
  {
   "cell_type": "markdown",
   "metadata": {},
   "source": [
    "## Unpack data from a local MagIC file\n",
    "\n",
    "Within the folder `./example_data/ECMB`, there is a MagIC contribution called `'magic_contribution_20213.txt'` that has been downloaded already from the MagIC database and is associated with this publication:\n",
    "\n",
    "> Swanson-Hysell, N.L., Avery, M.S., Zhang, Y., Hodgin, E.B., Sherwood, R.J., Apen, F.E., Boerboom, T.J., Keller, C.B., and Cottle, J.M. (2021), The paleogeography of Laurentia in its early years: new constraints from the Paleoproterozoic East Central Minnesota batholith, Tectonics, doi:10.1130/G47873.1.\n",
    "\n",
    " Running the code cell below unpacks that MagIC contribution so that we can visualize and analyze the measurement data. We can then create a contribution object that has all of the MagIC tables. This approach can be applied to MagIC contributions that are downloaded from the database."
   ]
  },
  {
   "cell_type": "code",
   "execution_count": null,
   "metadata": {},
   "outputs": [],
   "source": [
    "# set the directory path (dir_path) to the data\n",
    "dir_path = './example_data/ECMB'\n",
    "\n",
    "# set the name of the MagIC file\n",
    "ipmag.unpack_magic('magic_contribution_20213.txt', \n",
    "                     dir_path = dir_path,\n",
    "                     input_dir_path = dir_path,\n",
    "                     print_progress=False)\n",
    "\n",
    "ECMB_contribution = cb.Contribution(dir_path)"
   ]
  },
  {
   "cell_type": "markdown",
   "metadata": {},
   "source": [
    "### Inspect the measurements table\n",
    "\n",
    "Within the MagIC contribution object, there is a measurements table that we can inspect."
   ]
  },
  {
   "cell_type": "code",
   "execution_count": null,
   "metadata": {},
   "outputs": [],
   "source": [
    "ECMB_measurements = ECMB_contribution.tables['measurements'].df\n",
    "ECMB_measurements.dropna(axis=1, how='all').tail(2) # see the last 2 measurements without empty columns"
   ]
  },
  {
   "cell_type": "markdown",
   "metadata": {},
   "source": [
    "### List out the experiments\n",
    "\n",
    "We can use the function `rmag.make_experiment_df()` to list out the experiments that are a part of this MagIC contribution. We will exclude the experiments that are associated with AF and thermal demagnetization to obtain directional magnetization data in order to focus on the hysteresis experiments and low-temperature experiments.\n",
    "\n",
    "The method codes associated with the experiments are from the controlled vocabularies in the MagIC database https://www2.earthref.org/MagIC/method-codes.\n",
    "\n",
    "| Method Code    | Definition |\n",
    "| -------------- | ---------- |\n",
    "| LP-BCR-BF      | Coercivity of remanence: Back field method | \n",
    "| LP-HYS | Hysteresis loops |\n",
    "| LP-CW-SIRM:LP-MC| Cycling between cooling and warming: Room temperature SIRM; Measured while cooling |\n",
    "| LP-CW-SIRM:LP-MW| Cycling between cooling and warming: Room temperature SIRM; Measured while warming |\n",
    "| LP-FC          | Field cooled: Remanent magnetization measured on warming |\n",
    "| LP-ZFC         | Zero field cooled: Remanent magnetization measured on warming |"
   ]
  },
  {
   "cell_type": "code",
   "execution_count": null,
   "metadata": {},
   "outputs": [],
   "source": [
    "ECMB_experiments = rmag.make_experiment_df(ECMB_measurements,\n",
    "                                           exclude_method_codes=['LP-DIR-AF','LP-DIR-T'])\n",
    "ECMB_experiments"
   ]
  },
  {
   "cell_type": "markdown",
   "metadata": {},
   "source": [
    "### Analyze and plot a hysteresis loop"
   ]
  },
  {
   "cell_type": "code",
   "execution_count": null,
   "metadata": {},
   "outputs": [],
   "source": [
    "#specify the experiment name and specimen name\n",
    "experiment_name = 'IRM-VSM3-LP-HYS-218845'\n",
    "specimen_name = 'NED1-5c'\n",
    "\n",
    "experiment_hyst = rmag.experiment_selection(ECMB_measurements,\n",
    "                                            experiment_name)\n",
    "experiment_results = rmag.process_hyst_loop(experiment_hyst['meas_field_dc'].values, \n",
    "                                            experiment_hyst['magn_mass'].values, specimen_name)"
   ]
  },
  {
   "cell_type": "markdown",
   "metadata": {},
   "source": [
    "### Plot low-temperature remanence experiments"
   ]
  },
  {
   "cell_type": "code",
   "execution_count": null,
   "metadata": {},
   "outputs": [],
   "source": [
    "specimen_name = 'NED4-1c'\n",
    "fc_data, zfc_data, rtsirm_cool_data, rtsirm_warm_data = rmag.extract_mpms_data_dc(ECMB_measurements, specimen_name)\n",
    "rmag.plot_mpms_dc(fc_data, zfc_data, rtsirm_cool_data, rtsirm_warm_data, \n",
    "                  interactive=True, plot_derivative=True)"
   ]
  },
  {
   "cell_type": "markdown",
   "metadata": {},
   "source": [
    "## Direct download of a published MagIC contribution\n",
    "\n",
    "We can directly download a public MagIC contribution by providing the MagIC ID to the function `ipmag.download_magic_from_id()`.\n",
    "\n",
    "Let's do that and pull in Rock Magnetic Bestiary data associated with oxyhydroxides that have been published in the MagIC database here: https://earthref.org/MagIC/20427 with ```'20427'``` being the MagIC ID."
   ]
  },
  {
   "cell_type": "code",
   "execution_count": null,
   "metadata": {},
   "outputs": [],
   "source": [
    "# set the MagIC ID for the data set here\n",
    "magic_id = '20427'\n",
    "\n",
    "# set where you want the downloaded data to go\n",
    "dir_path = 'example_data/RMB_oxyhydroxides'\n",
    "\n",
    "result, magic_file = ipmag.download_magic_from_id(magic_id, directory=dir_path)\n",
    "ipmag.unpack_magic(magic_file, dir_path, print_progress=False)\n",
    "oxy_contribution = cb.Contribution(dir_path)\n",
    "oxy_measurements = oxy_contribution.tables['measurements'].df"
   ]
  },
  {
   "cell_type": "markdown",
   "metadata": {},
   "source": [
    "### Examine experiments"
   ]
  },
  {
   "cell_type": "code",
   "execution_count": null,
   "metadata": {},
   "outputs": [],
   "source": [
    "oxy_experiments = rmag.make_experiment_df(oxy_measurements)\n",
    "oxy_experiments"
   ]
  },
  {
   "cell_type": "markdown",
   "metadata": {},
   "source": [
    "### Plot low-temperature data\n",
    "\n",
    "Input one of the specimens with DC low-temperature remanence experiments in order to plot the data. Enter one of the following in the specimen_name below ferroxyhyte_Princeton-1985-M2-1, goethite_AA 19496-1 , goethite_Pfizer-YLO1888D-1, goethite_Pfizer-YO-5087-1,goethite_Pfizer-YO-6087-1, lepidocrocite_Pfizer_1"
   ]
  },
  {
   "cell_type": "code",
   "execution_count": null,
   "metadata": {},
   "outputs": [],
   "source": [
    "specimen_name = 'goethite_Pfizer-YO-5087-1'\n",
    "fc_data, zfc_data, rtsirm_cool_data, rtsirm_warm_data = rmag.extract_mpms_data_dc(oxy_measurements, specimen_name)\n",
    "rmag.plot_mpms_dc(fc_data, zfc_data, rtsirm_cool_data, rtsirm_warm_data, \n",
    "                  interactive=True, drop_first=True)"
   ]
  },
  {
   "cell_type": "markdown",
   "metadata": {},
   "source": [
    "## Let's upload a contribution! \n",
    "\n",
    "1. Navigate to download this MagIC file which contains data generated by one of the IRM Summer School groups in 2024: https://github.com/Institute-for-Rock-Magnetism/2025_rockmagpy_workshop/blob/main/2_MagIC_hysteresis/example_data/SSRM_example/example_MagIC_file.txt\n",
    "\n",
    "2. Download the MagIC file locally to your computer by clicking the download button:\n",
    "\n",
    "   <img src=\"images/download_example.png\" width=\"500\"/>\n",
    "\n",
    "3. Log-in to MagIC/Earthref (https://www2.earthref.org/MagIC).\n",
    "\n",
    "4. Go to upload tool (https://www2.earthref.org/MagIC/upload)\n",
    "\n",
    "5. Drag and drop the file into the upload tool.\n",
    "\n",
    "   <img src=\"images/upload_data.png\" width=\"500\"/>\n",
    "\n",
    "6. Upon uploading, we can examine the tables which are parsed and matched up with the table name and data model fields.\n",
    "\n",
    "   <img src=\"images/import_data.png\" width=\"500\"/>\n",
    "\n",
    "7. Click the upload button in the lower right, which will bring you to an upload page where you can click through to upload data into your private workspace.\n",
    "   \n",
    "   <img src=\"images/private_workspace.png\" width=\"500\"/>\n",
    "\n",
    "8. Add the lab for the study `Institute for Rock Magnetism` and then click save.\n",
    "   \n",
    "   <img src=\"images/manage_contribution.png\" width=\"500\"/>\n",
    "\n",
    "9. These data are now in MagIC as a private contribution. We could click validate to validate the contribution and then publish it, but we won't do that with these data. What we can do is to get a private link that can be shared. Sharing such a link enables data to be made available for peer review. Note that the DOI for the contribution (Future Data DOI) is already available at this stage which enables the data to be properly referenced within a manuscript when it is submitted. \n",
    "\n",
    "   <img src=\"images/private_share.png\" width=\"400\"/>\n",
    "\n",
    "10. We can also bring data from a private in our workspace into a notebook for analysis which we will do below.\n",
    "\n",
    "### Download and unpack data directly from this private MagIC contribution\n",
    "\n",
    "To bring in a data from a contribution that has been uploaded to MagIC, but that is not yet publically published, you need to both set the `magic_id` and the `share_key` for the data MagIC contribution which you can find by clicking on the \"Share\" button in the MagIC database. Here we will do that with data developed by participants in one of the groups from the IRM Summer School that we just uploaded\n",
    "\n",
    "<figure>\n",
    "  <img src=\"https://raw.githubusercontent.com/PmagPy/RockmagPy-notebooks/main/book/images/MagIC_private_contribution_1.png\" alt=\"Description of the image\" width=\"800\">\n",
    "</figure>\n",
    "\n",
    "Copy the share key which is the code after the last backslash to the `share_key` parameter in the cell below.\n",
    "\n",
    "<figure>\n",
    "  <img src=\"https://raw.githubusercontent.com/PmagPy/RockmagPy-notebooks/main/book/images/MagIC_private_contribution_2.png\" alt=\"Description of the image\" width=\"800\">\n",
    "</figure>"
   ]
  },
  {
   "cell_type": "code",
   "execution_count": null,
   "metadata": {},
   "outputs": [],
   "source": [
    "# set the MagIC ID for the data set here\n",
    "magic_id = ''\n",
    "\n",
    "# provide the share key for the data set\n",
    "share_key = ''\n",
    "\n",
    "# set where you want the downloaded data to go\n",
    "dir_path = 'example_data/SSRM_example'\n",
    "\n",
    "result, magic_file = ipmag.download_magic_from_id(magic_id, directory=dir_path, share_key=share_key)\n",
    "ipmag.unpack_magic(magic_file, dir_path, print_progress=False)\n",
    "SSRM_contribution = cb.Contribution(dir_path)"
   ]
  },
  {
   "cell_type": "markdown",
   "metadata": {},
   "source": [
    "### List out the experiments "
   ]
  },
  {
   "cell_type": "code",
   "execution_count": null,
   "metadata": {},
   "outputs": [],
   "source": [
    "SSRM_experiments = rmag.make_experiment_df(SSRM_measurements)\n",
    "SSRM_experiments"
   ]
  },
  {
   "cell_type": "markdown",
   "metadata": {},
   "source": [
    "### Plot a thermomagnetic curve\n",
    "\n",
    "In the cell below, put in an experiment name associated with one of the LP-X-T experiments. "
   ]
  },
  {
   "cell_type": "code",
   "execution_count": null,
   "metadata": {},
   "outputs": [],
   "source": [
    "experiment_name = ''\n",
    "selected_experiment = rmag.experiment_selection(SSRM_measurements,\n",
    "                                                experiment_name)\n",
    "\n",
    "rmag.plot_X_T(selected_experiment, \n",
    "              temp_unit='C', \n",
    "              remove_holder=True, \n",
    "              plot_derivative=True,\n",
    "              plot_inverse=True,\n",
    "              interactive=True,\n",
    "              figsize=(8,3))"
   ]
  },
  {
   "cell_type": "markdown",
   "metadata": {},
   "source": [
    "### Plot a backfield curve\n",
    "\n",
    "In the cell below, put in an experiment name associated with one of the backfield curve (LP-BCR-BF) experiments. The data for specimen MA1-OX-r (experiment IRM-VSM4-LP-BCR-BF-239379 is particularly interesting)."
   ]
  },
  {
   "cell_type": "code",
   "execution_count": null,
   "metadata": {},
   "outputs": [],
   "source": [
    "experiment_name = ''\n",
    "selected_experiment = rmag.experiment_selection(SSRM_measurements,\n",
    "                                                experiment_name)\n",
    "processed_experiment, Bcr = rmag.backfield_data_processing(selected_experiment,\n",
    "                                                           smooth_mode='spline',\n",
    "                                                           smooth_frac=0.0001)\n",
    "rmag.plot_backfield_data(processed_experiment, Bcr=Bcr, interactive=True)"
   ]
  },
  {
   "cell_type": "markdown",
   "metadata": {},
   "source": [
    "### Plot a hysteresis loop"
   ]
  },
  {
   "cell_type": "code",
   "execution_count": null,
   "metadata": {},
   "outputs": [],
   "source": [
    "#specify the experiment name and specimen name\n",
    "experiment_name = 'IRM-VSM3-LP-HYS-239371'\n",
    "specimen_name = 'MA1-OX-r'\n",
    "\n",
    "hyst_experiment = rmag.experiment_selection(SSRM_measurements,\n",
    "                                            experiment_name)\n",
    "experiment_results = rmag.process_hyst_loop(hyst_experiment['meas_field_dc'].values, \n",
    "                                            hyst_experiment['magn_mass'].values, specimen_name)"
   ]
  },
  {
   "cell_type": "markdown",
   "metadata": {},
   "source": [
    "### Plot low-temperature remanence experiments"
   ]
  },
  {
   "cell_type": "code",
   "execution_count": null,
   "metadata": {},
   "outputs": [],
   "source": [
    "specimen_name = 'MA1-5-r gelcap'\n",
    "fc_data, zfc_data, rtsirm_cool_data, rtsirm_warm_data = rmag.extract_mpms_data_dc(SSRM_measurements, specimen_name)\n",
    "rmag.plot_mpms_dc(fc_data, zfc_data, rtsirm_cool_data, rtsirm_warm_data,\n",
    "                  plot_derivative=True, interactive=True)"
   ]
  },
  {
   "cell_type": "markdown",
   "metadata": {},
   "source": [
    "### Make a static plot and save the figure"
   ]
  },
  {
   "cell_type": "code",
   "execution_count": null,
   "metadata": {},
   "outputs": [],
   "source": [
    "MPMS_figure = rmag.plot_mpms_dc(fc_data, zfc_data, rtsirm_cool_data, rtsirm_warm_data, \n",
    "                                interactive=False, plot_derivative=True,return_figure=True)\n",
    "\n",
    "MPMS_figure.savefig('example_data/SSRM_example/MPMS_plot.pdf')"
   ]
  },
  {
   "cell_type": "markdown",
   "metadata": {},
   "source": [
    "### Customize a static plot"
   ]
  },
  {
   "cell_type": "code",
   "execution_count": null,
   "metadata": {},
   "outputs": [],
   "source": [
    "rmag.plot_mpms_dc(fc_data, zfc_data, rtsirm_cool_data, rtsirm_warm_data, \n",
    "                   fc_color='orange', zfc_color='purple', rtsirm_cool_color='blue', rtsirm_warm_color='darkred',\n",
    "                   fc_marker='^', zfc_marker='o', rtsirm_cool_marker='*', rtsirm_warm_marker='s',\n",
    "                   symbol_size=4, interactive=False, plot_derivative=True)"
   ]
  }
 ],
 "metadata": {
  "kernelspec": {
   "display_name": "Python 3.10",
   "language": "python",
   "name": "python-3.10"
  },
  "language_info": {
   "codemirror_mode": {
    "name": "ipython",
    "version": 3
   },
   "file_extension": ".py",
   "mimetype": "text/x-python",
   "name": "python",
   "nbconvert_exporter": "python",
   "pygments_lexer": "ipython3",
   "version": "3.10.4"
  }
 },
 "nbformat": 4,
 "nbformat_minor": 4
}
